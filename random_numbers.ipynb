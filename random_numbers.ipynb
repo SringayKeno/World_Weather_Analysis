{
 "cells": [
  {
   "cell_type": "code",
   "execution_count": 2,
   "id": "0a8563b0",
   "metadata": {},
   "outputs": [],
   "source": [
    "#import random\n",
    "import random"
   ]
  },
  {
   "cell_type": "code",
   "execution_count": 6,
   "id": "e2216619",
   "metadata": {},
   "outputs": [
    {
     "data": {
      "text/plain": [
       "-30"
      ]
     },
     "execution_count": 6,
     "metadata": {},
     "output_type": "execute_result"
    }
   ],
   "source": [
    "random.randint(-90,90)"
   ]
  },
  {
   "cell_type": "code",
   "execution_count": 10,
   "id": "a53f0839",
   "metadata": {},
   "outputs": [
    {
     "data": {
      "text/plain": [
       "0.3546298338641817"
      ]
     },
     "execution_count": 10,
     "metadata": {},
     "output_type": "execute_result"
    }
   ],
   "source": [
    "random.random()"
   ]
  },
  {
   "cell_type": "code",
   "execution_count": 15,
   "id": "e984fc13",
   "metadata": {},
   "outputs": [
    {
     "data": {
      "text/plain": [
       "-12.259168993711228"
      ]
     },
     "execution_count": 15,
     "metadata": {},
     "output_type": "execute_result"
    }
   ],
   "source": [
    "random_number = random.randint(-90,89) + random.random()\n",
    "random_number"
   ]
  },
  {
   "cell_type": "code",
   "execution_count": 28,
   "id": "0771e754",
   "metadata": {},
   "outputs": [
    {
     "data": {
      "text/plain": [
       "[61.88835997725159,\n",
       " -84.64347334096112,\n",
       " -85.19243517987815,\n",
       " 69.8134229077606,\n",
       " 6.531917948797764,\n",
       " -27.314451394999697,\n",
       " 17.455254004209195,\n",
       " -48.03348878307428,\n",
       " -4.728706528811489,\n",
       " -9.09648612741304]"
      ]
     },
     "execution_count": 28,
     "metadata": {},
     "output_type": "execute_result"
    }
   ],
   "source": [
    "x = 1\n",
    "latitudes = []\n",
    "while x < 11:\n",
    "    random_lat = random.randint(-90, 89) + random.random()\n",
    "    latitudes.append(random_lat)\n",
    "    x += 1\n",
    "latitudes\n",
    "    "
   ]
  },
  {
   "cell_type": "code",
   "execution_count": 34,
   "id": "33e13c1d",
   "metadata": {},
   "outputs": [
    {
     "data": {
      "text/plain": [
       "84"
      ]
     },
     "execution_count": 34,
     "metadata": {},
     "output_type": "execute_result"
    }
   ],
   "source": [
    "random.randrange(-90, 89, step=3)"
   ]
  },
  {
   "cell_type": "code",
   "execution_count": 38,
   "id": "4d281fc8",
   "metadata": {},
   "outputs": [
    {
     "data": {
      "text/plain": [
       "-20.689226158007912"
      ]
     },
     "execution_count": 38,
     "metadata": {},
     "output_type": "execute_result"
    }
   ],
   "source": [
    "random.uniform(-90, 89)"
   ]
  },
  {
   "cell_type": "code",
   "execution_count": 39,
   "id": "6a2538f0",
   "metadata": {},
   "outputs": [],
   "source": [
    "#import NumPy\n",
    "import numpy as np"
   ]
  },
  {
   "cell_type": "code",
   "execution_count": 47,
   "id": "6c18e749",
   "metadata": {},
   "outputs": [
    {
     "data": {
      "text/plain": [
       "array([ -2.21240489,  45.32522438, -77.05291819, -85.89813816,\n",
       "       -22.20203481,  19.9112156 ,  -2.28603705, -71.20480502,\n",
       "        22.21859276, -19.17368825,   6.32541385,  79.93031995,\n",
       "       -36.64543324, -44.983616  , -29.6931471 ,  57.159441  ,\n",
       "         9.97795217, -41.07371073, -63.57929233,  87.80202368,\n",
       "       -39.93058311, -51.14963296, -55.62911303, -68.23920018,\n",
       "        34.49846214,  63.66387712, -63.66710998,  62.92300387,\n",
       "       -89.33564284, -13.3820353 ,  36.45448992,  58.6970328 ,\n",
       "       -34.31107818,  57.49584076,  85.91034307,  41.77034904,\n",
       "       -10.44406498,  82.08427897, -33.2834767 , -55.07011805,\n",
       "        59.32538733, -66.96862693,  18.23257226,  36.97370624,\n",
       "         9.51285747,  -8.20298969,  79.47822633, -41.13016634,\n",
       "        55.77444442, -46.44442798])"
      ]
     },
     "execution_count": 47,
     "metadata": {},
     "output_type": "execute_result"
    }
   ],
   "source": [
    "np.random.uniform(-90.000, 90.000, size=50)\n",
    "#2nd option for code\n",
    "#np.random.uniform(low=90, high=90)\n"
   ]
  },
  {
   "cell_type": "code",
   "execution_count": 56,
   "id": "06b5f89e",
   "metadata": {},
   "outputs": [],
   "source": [
    "#import %timeit\n",
    "import timeit"
   ]
  },
  {
   "cell_type": "code",
   "execution_count": 60,
   "id": "bf2f8411",
   "metadata": {},
   "outputs": [
    {
     "name": "stdout",
     "output_type": "stream",
     "text": [
      "29.6 µs ± 2.4 µs per loop (mean ± std. dev. of 7 runs, 10000 loops each)\n"
     ]
    }
   ],
   "source": [
    "%timeit np.random.uniform(-90.000, 90.000, size=1500)"
   ]
  },
  {
   "cell_type": "code",
   "execution_count": 65,
   "id": "c542c410",
   "metadata": {},
   "outputs": [
    {
     "name": "stdout",
     "output_type": "stream",
     "text": [
      "4.03 ms ± 351 µs per loop (mean ± std. dev. of 7 runs, 100 loops each)\n"
     ]
    }
   ],
   "source": [
    "#def latitudes(size):\n",
    "    #latitudes = []\n",
    "   #x = 0\n",
    "   # while x < (size):\n",
    "       # random_lat =random.randint(-90, 90) + random.random()\n",
    "        #latitudes.append(random_lat)\n",
    "       # x +=1\n",
    "   # return latitudes\n",
    "\n",
    "#call func w 1500\n",
    "#%timeit latitudes(1500)"
   ]
  }
 ],
 "metadata": {
  "kernelspec": {
   "display_name": "PythonData",
   "language": "python",
   "name": "pythondata"
  },
  "language_info": {
   "codemirror_mode": {
    "name": "ipython",
    "version": 3
   },
   "file_extension": ".py",
   "mimetype": "text/x-python",
   "name": "python",
   "nbconvert_exporter": "python",
   "pygments_lexer": "ipython3",
   "version": "3.7.11"
  }
 },
 "nbformat": 4,
 "nbformat_minor": 5
}
